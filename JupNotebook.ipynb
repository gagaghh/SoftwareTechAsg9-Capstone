{
 "cells": [
  {
   "cell_type": "code",
   "execution_count": null,
   "metadata": {},
   "outputs": [],
   "source": [
    "import pandas as pd\n",
    "import numpy as np\n",
    "import seaborn as sns\n",
    "import matplotlib.pyplot as plt\n",
    "from sklearn.preprocessing import LabelEncoder , StandardScaler\n",
    "from sklearn.model_selection import train_test_split\n",
    "from sklearn.linear_model import LinearRegression , Ridge , Lasso , ElasticNet\n",
    "from sklearn.metrics import mean_squared_error  , mean_absolute_error\n",
    "from sklearn.feature_selection import SelectKBest\n",
    "from sklearn.feature_selection import chi2\n",
    "from scipy.stats import zscore\n",
    "from scipy.stats import f_oneway\n",
    "from sklearn.metrics import r2_score\n",
    "from tkinter import ttk\n",
    "import tkinter as tk\n",
    "data= pd.read_csv('FINAL_USO.csv')\n",
    "%matplotlib inline\n",
    "\n",
    "#Problem Statement Definition\n",
    "#Using gold price data we needed to create an algorithm that was able to read the data, use the important information\n",
    "#while ignoring the useless information, learn from this data and be able to predict future prices from this information. \n"
   ]
  },
  {
   "cell_type": "code",
   "execution_count": null,
   "metadata": {},
   "outputs": [],
   "source": [
    "#info on the dataset\n",
    "data.info()"
   ]
  },
  {
   "cell_type": "code",
   "execution_count": null,
   "metadata": {},
   "outputs": [],
   "source": [
    "data.nunique()"
   ]
  },
  {
   "cell_type": "code",
   "execution_count": null,
   "metadata": {},
   "outputs": [],
   "source": [
    "data.describe()"
   ]
  },
  {
   "cell_type": "code",
   "execution_count": null,
   "metadata": {},
   "outputs": [],
   "source": [
    "#sample the first 5 rows\n",
    "data.head()"
   ]
  },
  {
   "cell_type": "code",
   "execution_count": null,
   "metadata": {},
   "outputs": [],
   "source": [
    "#sample tail end of dataset\n",
    "data.tail()"
   ]
  },
  {
   "cell_type": "code",
   "execution_count": null,
   "metadata": {},
   "outputs": [],
   "source": [
    "#converting data into the same type to normalize it\n",
    "data['Date'] = pd.to_datetime(data['Date'])\n",
    "data[data.columns[1:81]] = data[data.columns[1:81]].astype(float)\n",
    "data = data.rename(columns = {'Open' : 'Opening Price', 'Close' : 'Closing Price in $'}, inplace = False)\n",
    "data.dtypes\n",
    "\n",
    "#histogram of closing price\n",
    "data['Closing Price in $'].hist()\n",
    "\n",
    "\n",
    "#data outlier removal\n"
   ]
  },
  {
   "cell_type": "code",
   "execution_count": null,
   "metadata": {},
   "outputs": [],
   "source": [
    "#count all non-number points\n",
    "count_nan = data.isnull().sum()\n",
    "print(count_nan)"
   ]
  },
  {
   "cell_type": "code",
   "execution_count": null,
   "metadata": {},
   "outputs": [],
   "source": [
    "#gold price over time\n",
    "sns.displot(data, x = \"Date\", y = \"Closing Price in $\", bins = 150)"
   ]
  },
  {
   "cell_type": "code",
   "execution_count": null,
   "metadata": {},
   "outputs": [],
   "source": [
    "#gold price compared to GDX Low\n",
    "gdx_low = list(data['GDX_Low'])\n",
    "close_price = list(data['Closing Price in $'])\n",
    "\n",
    "plt.figure(figsize = (20, 20))\n",
    "\n",
    "plt.bar(gdx_low, close_price, color ='lightblue', \n",
    "        width = 1)\n",
    "\n",
    "plt.xlabel(\"GDX Low\")\n",
    "plt.ylabel(\"Close Price\")\n",
    "plt.title(\"Correlation between close price and GDX Low\")\n",
    "plt.show()"
   ]
  },
  {
   "cell_type": "code",
   "execution_count": null,
   "metadata": {},
   "outputs": [],
   "source": [
    "#correlation between the closing price and other variables\n",
    "target_var = 'Closing Price in $'\n",
    "\n",
    "correlations = data.corr()[target_var]\n",
    "\n",
    "plt.figure(figsize = (20, 30))\n",
    "sns.barplot(x = correlations.values, y = correlations.index, color = 'green')\n",
    "plt.title(f'Variable Correlation with {target_var}')\n",
    "plt.xlabel('Correlations')\n",
    "plt.ylabel('Variable Columns')\n",
    "plt.xticks(rotation = 90)"
   ]
  },
  {
   "cell_type": "code",
   "execution_count": null,
   "metadata": {},
   "outputs": [],
   "source": [
    "#getting all positively correlated variables in a dataframe together\n",
    "corr_columns_matrix = data.corr()\n",
    "\n",
    "corr_columns_matrix['Closing Price in $'][abs(corr_columns_matrix['Closing Price in $']) >.5]\n",
    "\n",
    "new_data = data[corr_columns_matrix]\n",
    "\n",
    "print(corr_columns_matrix)"
   ]
  },
  {
   "cell_type": "code",
   "execution_count": null,
   "metadata": {},
   "outputs": [],
   "source": [
    "#anova\n",
    "\n",
    "PredictorList = ['GDX_Low', 'SF_Price', 'High', 'EG_open']\n",
    "\n",
    "def AnovaTest(input_data, TargetVar, Predictors):\n",
    "    finalpredictors = []\n",
    "    \n",
    "    for pred in Predictors:\n",
    "        group_list = input_data.groupby(pred)[TargetVar].apply(list)\n",
    "        results = f_oneway(*group_list)\n",
    "\n",
    "        if (results[1] < 0.05):\n",
    "            print(results)\n",
    "            finalpredictors.append(pred)\n",
    "        else:\n",
    "            print('No relation')   \n",
    "    return(finalpredictors)\n",
    "\n",
    "AnovaTest(input_data = data,\n",
    "TargetVar = 'Closing Price in $',\n",
    "Predictors = PredictorList)"
   ]
  },
  {
   "cell_type": "code",
   "execution_count": null,
   "metadata": {},
   "outputs": [],
   "source": [
    "#using the predictor columns as the basis for ai model\n",
    "final_selection = ['GDX_Low', 'SF_Price', 'High', 'EG_open']\n",
    "\n",
    "aidata = data"
   ]
  },
  {
   "cell_type": "code",
   "execution_count": null,
   "metadata": {},
   "outputs": [],
   "source": [
    "#train and test\n",
    "\n",
    "X_axis = final_data.drop('Closing Price in $', axis = 1)\n",
    "Y_axis = final_data['Closing Price in $']\n",
    "\n",
    "Xtrain , Xtest , Ytrain , Ytest = train_test_split(X_axis , Y_axis , test_size = 0.2 , random_state = 69)\n",
    "\n",
    "s = StandardScaler()\n",
    "scale_x_TRAIN = s.fit_transform(Xtrain)\n",
    "scale_x_TEST = s.transform(Xtest)"
   ]
  },
  {
   "cell_type": "code",
   "execution_count": null,
   "metadata": {},
   "outputs": [],
   "source": [
    "#ridge model\n",
    "ridge_model = Ridge(alpha = 1)\n",
    "\n",
    "ridge_model = ridge_model.fit(scale_x_TRAIN, Ytrain)\n",
    "\n",
    "ridge_model.predict(scale_x_TEST)\n"
   ]
  }
 ],
 "metadata": {
  "kernelspec": {
   "display_name": "Python 3",
   "language": "python",
   "name": "python3"
  },
  "language_info": {
   "codemirror_mode": {
    "name": "ipython",
    "version": 3
   },
   "file_extension": ".py",
   "mimetype": "text/x-python",
   "name": "python",
   "nbconvert_exporter": "python",
   "pygments_lexer": "ipython3",
   "version": "3.11.9"
  }
 },
 "nbformat": 4,
 "nbformat_minor": 2
}
